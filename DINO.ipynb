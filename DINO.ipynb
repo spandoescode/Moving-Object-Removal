{
  "nbformat": 4,
  "nbformat_minor": 0,
  "metadata": {
    "colab": {
      "name": "DINO.ipynb",
      "provenance": []
    },
    "kernelspec": {
      "name": "python3",
      "display_name": "Python 3"
    },
    "language_info": {
      "name": "python"
    }
  },
  "cells": [
    {
      "cell_type": "code",
      "metadata": {
        "id": "MpjmQNrR611Y"
      },
      "source": [
        "from google.colab import drive\n",
        "drive.mount('/content/drive')"
      ],
      "execution_count": null,
      "outputs": []
    },
    {
      "cell_type": "code",
      "metadata": {
        "id": "ejkJe0Cy67tR"
      },
      "source": [
        "cd /content/drive/MyDrive/IVP_Project"
      ],
      "execution_count": null,
      "outputs": []
    },
    {
      "cell_type": "code",
      "metadata": {
        "id": "PqJi9Hvo68Mk"
      },
      "source": [
        "!git clone https://github.com/facebookresearch/dino.git"
      ],
      "execution_count": null,
      "outputs": []
    },
    {
      "cell_type": "code",
      "metadata": {
        "id": "akQdrg1O7B6h"
      },
      "source": [
        "!python /content/drive/MyDrive/IVP_Project/dino/video_generation.py  --pretrained_weights dino_deitsmall8_pretrain.pth \\\n",
        "    --input_path /content/drive/MyDrive/IVP_Project/dataset/badWeather/skating/input/ \\\n",
        "    --output_path /content/drive/MyDrive/IVP_Project/dinoOutput/skating/ \\\n",
        "    --resize 256 \\"
      ],
      "execution_count": null,
      "outputs": []
    },
    {
      "cell_type": "code",
      "metadata": {
        "id": "MkWQ4MvF7CfZ"
      },
      "source": [
        "!python /content/drive/MyDrive/IVP_Project/dino/video_generation.py  --pretrained_weights dino_deitsmall8_pretrain.pth \\\n",
        "    --input_path /content/drive/MyDrive/IVP_Project/dataset/baseline/office/input/ \\\n",
        "    --output_path /content/drive/MyDrive/IVP_Project/dinoOutput/office/ \\\n",
        "    --resize 256 \\"
      ],
      "execution_count": null,
      "outputs": []
    },
    {
      "cell_type": "code",
      "metadata": {
        "id": "drypX0nX7F3P"
      },
      "source": [
        "!python /content/drive/MyDrive/IVP_Project/dino/video_generation.py  --pretrained_weights dino_deitsmall8_pretrain.pth \\\n",
        "    --input_path /content/drive/MyDrive/IVP_Project/dataset/dynamicBackground/fall/input/ \\\n",
        "    --output_path /content/drive/MyDrive/IVP_Project/dinoOutput/fall/ \\\n",
        "    --resize 256 \\"
      ],
      "execution_count": null,
      "outputs": []
    }
  ]
}