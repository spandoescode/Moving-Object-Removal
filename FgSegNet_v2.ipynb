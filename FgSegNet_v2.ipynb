{
  "nbformat": 4,
  "nbformat_minor": 0,
  "metadata": {
    "colab": {
      "name": "FgSegNet_v2.ipynb",
      "provenance": [],
      "collapsed_sections": []
    },
    "kernelspec": {
      "name": "python3",
      "display_name": "Python 3"
    },
    "language_info": {
      "name": "python"
    }
  },
  "cells": [
    {
      "cell_type": "markdown",
      "metadata": {
        "id": "D3CCcO0Z5lwI"
      },
      "source": [
        "We tried to implement FgSegNet_v2. It is an outdated code with many primitive library versions, hence we could not not run the training thourougly."
      ]
    },
    {
      "cell_type": "code",
      "metadata": {
        "colab": {
          "base_uri": "https://localhost:8080/"
        },
        "id": "3l7OG1simu7t",
        "outputId": "92d59b26-f986-4445-dddd-23547e0c1009"
      },
      "source": [
        "from google.colab import drive\n",
        "drive.mount('/content/drive')"
      ],
      "execution_count": null,
      "outputs": [
        {
          "output_type": "stream",
          "name": "stdout",
          "text": [
            "Mounted at /content/drive\n"
          ]
        }
      ]
    },
    {
      "cell_type": "code",
      "metadata": {
        "colab": {
          "base_uri": "https://localhost:8080/"
        },
        "id": "EO-O7Nbvm6VG",
        "outputId": "479e20a3-41ea-4542-ae39-90a3f40e7b79"
      },
      "source": [
        "cd /content/drive/MyDrive/IVP_Project"
      ],
      "execution_count": null,
      "outputs": [
        {
          "output_type": "stream",
          "name": "stdout",
          "text": [
            "/content/drive/MyDrive/IVP_Project\n"
          ]
        }
      ]
    },
    {
      "cell_type": "code",
      "metadata": {
        "colab": {
          "base_uri": "https://localhost:8080/"
        },
        "id": "-8j7f44Xm9Sh",
        "outputId": "476fb343-ced3-49c8-f38b-c255bf0e3509"
      },
      "source": [
        "!git clone https://github.com/lim-anggun/FgSegNet_v2.git"
      ],
      "execution_count": null,
      "outputs": [
        {
          "output_type": "stream",
          "name": "stdout",
          "text": [
            "Cloning into 'FgSegNet_v2'...\n",
            "remote: Enumerating objects: 10144, done.\u001b[K\n",
            "remote: Counting objects: 100% (6/6), done.\u001b[K\n",
            "remote: Compressing objects: 100% (6/6), done.\u001b[K\n",
            "remote: Total 10144 (delta 1), reused 1 (delta 0), pack-reused 10138\u001b[K\n",
            "Receiving objects: 100% (10144/10144), 19.01 MiB | 6.69 MiB/s, done.\n",
            "Resolving deltas: 100% (3925/3925), done.\n",
            "Checking out files: 100% (12001/12001), done.\n"
          ]
        }
      ]
    },
    {
      "cell_type": "code",
      "metadata": {
        "id": "Nuh3grbfnBmt"
      },
      "source": [
        "ls"
      ],
      "execution_count": null,
      "outputs": []
    },
    {
      "cell_type": "code",
      "metadata": {
        "id": "Z3tkhlX4pMAo"
      },
      "source": [
        "cd FgSegNet_v2/"
      ],
      "execution_count": null,
      "outputs": []
    },
    {
      "cell_type": "code",
      "metadata": {
        "id": "GXQf9bx-pYwy"
      },
      "source": [
        "ls"
      ],
      "execution_count": null,
      "outputs": []
    },
    {
      "cell_type": "code",
      "metadata": {
        "id": "xujUYLjrpv9D"
      },
      "source": [
        "cd scripts"
      ],
      "execution_count": null,
      "outputs": []
    },
    {
      "cell_type": "code",
      "metadata": {
        "id": "my4arVkJ3imq"
      },
      "source": [
        "pip install scipy==1.1.0"
      ],
      "execution_count": null,
      "outputs": []
    },
    {
      "cell_type": "code",
      "metadata": {
        "colab": {
          "base_uri": "https://localhost:8080/"
        },
        "id": "buHpzO0t3lsK",
        "outputId": "f9b20300-dfc1-4940-a6d8-a18bbc09c9e7"
      },
      "source": [
        "!python FgSegNet_v2_CDnet.py"
      ],
      "execution_count": null,
      "outputs": [
        {
          "output_type": "stream",
          "name": "stdout",
          "text": [
            "2021-11-10 13:19:44.085083: E tensorflow/stream_executor/cuda/cuda_driver.cc:271] failed call to cuInit: CUDA_ERROR_NO_DEVICE: no CUDA-capable device is detected\n",
            "We implemented using [keras v2.0.6, tensorflow-gpu v1.1.0, python v3.6.3], other versions than these may cause errors somehow!\n",
            "\n",
            "Training ->>> baseline / highway\n",
            "/usr/local/lib/python3.7/dist-packages/keras_preprocessing/image/utils.py:107: UserWarning: grayscale is deprecated. Please use color_mode = \"grayscale\"\n",
            "  warnings.warn('grayscale is deprecated. Please use '\n",
            "/usr/local/lib/python3.7/dist-packages/keras/optimizer_v2/rmsprop.py:130: UserWarning: The `lr` argument is deprecated, use `learning_rate` instead.\n",
            "  super(RMSprop, self).__init__(name, **kwargs)\n",
            "Traceback (most recent call last):\n",
            "  File \"FgSegNet_v2_CDnet.py\", line 207, in <module>\n",
            "    train(data, scene, mdl_path, vgg_weights_path)\n",
            "  File \"FgSegNet_v2_CDnet.py\", line 150, in train\n",
            "    class_weight=data[2][0], shuffle = True)\n",
            "  File \"/usr/local/lib/python3.7/dist-packages/keras/utils/traceback_utils.py\", line 67, in error_handler\n",
            "    raise e.with_traceback(filtered_tb) from None\n",
            "  File \"/usr/local/lib/python3.7/dist-packages/keras/engine/data_adapter.py\", line 1440, in _class_weights_map_fn\n",
            "    raise ValueError(\"`class_weight` not supported for \"\n",
            "ValueError: `class_weight` not supported for 3+ dimensional targets.\n"
          ]
        }
      ]
    },
    {
      "cell_type": "code",
      "metadata": {
        "id": "Gee596Q35dzj"
      },
      "source": [
        "cd .."
      ],
      "execution_count": null,
      "outputs": []
    },
    {
      "cell_type": "code",
      "metadata": {
        "id": "n0KBeg8U5fXz"
      },
      "source": [
        "ls"
      ],
      "execution_count": null,
      "outputs": []
    },
    {
      "cell_type": "code",
      "metadata": {
        "id": "svo5_v4RrlTH"
      },
      "source": [
        "cd testing_scripts/"
      ],
      "execution_count": null,
      "outputs": []
    },
    {
      "cell_type": "code",
      "metadata": {
        "id": "zVGbnJBCwNgw"
      },
      "source": [
        "ls"
      ],
      "execution_count": null,
      "outputs": []
    },
    {
      "cell_type": "code",
      "metadata": {
        "colab": {
          "base_uri": "https://localhost:8080/"
        },
        "id": "xAu3HVRDpDhd",
        "outputId": "87fc338c-5e16-4021-ec6b-354254a9d502"
      },
      "source": [
        "!python extract_mask.py "
      ],
      "execution_count": null,
      "outputs": [
        {
          "output_type": "stream",
          "name": "stdout",
          "text": [
            "/content/drive/MyDrive/IVP_Project/FgSegNet_v2\n",
            "\n",
            "->>> baseline / highway\n",
            "/usr/local/lib/python3.7/dist-packages/keras_preprocessing/image/utils.py:107: UserWarning: grayscale is deprecated. Please use color_mode = \"grayscale\"\n",
            "  warnings.warn('grayscale is deprecated. Please use '\n",
            "Traceback (most recent call last):\n",
            "  File \"extract_mask.py\", line 223, in <module>\n",
            "    model = load_model(mdl_path)\n",
            "  File \"/usr/local/lib/python3.7/dist-packages/keras/utils/traceback_utils.py\", line 67, in error_handler\n",
            "    raise e.with_traceback(filtered_tb) from None\n",
            "  File \"/usr/local/lib/python3.7/dist-packages/keras/saving/save.py\", line 209, in load_model\n",
            "    raise IOError(f'No file or directory found at {filepath}')\n",
            "OSError: No file or directory found at models25/baseline/mdl_highway.h5\n"
          ]
        }
      ]
    }
  ]
}